{
 "cells": [
  {
   "cell_type": "code",
   "execution_count": 3,
   "outputs": [],
   "source": [
    "from Dataset import *\n",
    "from base_mutators import *\n",
    "from operators import *"
   ],
   "metadata": {
    "collapsed": false
   }
  },
  {
   "cell_type": "code",
   "execution_count": 7,
   "outputs": [],
   "source": [
    "from Dataset import *\n",
    "with open(\"../humanCOCOSmall.json\", \"r\") as f:\n",
    "    data = dict(json.load(f))\n",
    "    dataset = Dataset(data, [\"showcase\"])\n",
    "    dataset.setRootDir(\"./mutations/\")\n",
    "    wordsList = {\n",
    "        \"tree\": \"tre3\",\n",
    "        \"food\": \"fo@d\",\n",
    "        \"of\" : \"0f\"\n",
    "    }\n",
    "    misspellWords(dataset, wordsList, word_change_limit=1)\n",
    "    dataset.saveToFile()"
   ],
   "metadata": {
    "collapsed": false
   }
  },
  {
   "cell_type": "code",
   "execution_count": 12,
   "outputs": [],
   "source": [
    "# populateRandomWord(1000)"
   ],
   "metadata": {
    "collapsed": false
   }
  },
  {
   "cell_type": "code",
   "execution_count": 6,
   "outputs": [],
   "source": [],
   "metadata": {
    "collapsed": false
   }
  },
  {
   "cell_type": "code",
   "execution_count": null,
   "outputs": [],
   "source": [],
   "metadata": {
    "collapsed": false
   }
  }
 ],
 "metadata": {
  "kernelspec": {
   "display_name": "Python 3",
   "language": "python",
   "name": "python3"
  },
  "language_info": {
   "codemirror_mode": {
    "name": "ipython",
    "version": 2
   },
   "file_extension": ".py",
   "mimetype": "text/x-python",
   "name": "python",
   "nbconvert_exporter": "python",
   "pygments_lexer": "ipython2",
   "version": "2.7.6"
  }
 },
 "nbformat": 4,
 "nbformat_minor": 0
}
